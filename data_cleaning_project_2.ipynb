{
  "nbformat": 4,
  "nbformat_minor": 0,
  "metadata": {
    "colab": {
      "provenance": []
    },
    "kernelspec": {
      "name": "python3",
      "display_name": "Python 3"
    },
    "language_info": {
      "name": "python"
    }
  },
  "cells": [
    {
      "cell_type": "code",
      "execution_count": 12,
      "metadata": {
        "id": "UJlVJ4rOOw_o",
        "colab": {
          "base_uri": "https://localhost:8080/"
        },
        "outputId": "5c91b84d-7b40-450d-d3a7-ebde9ec34a7b"
      },
      "outputs": [
        {
          "output_type": "stream",
          "name": "stdout",
          "text": [
            "Conversion completed. CSV file saved successfully.\n"
          ]
        }
      ],
      "source": [
        "import pandas as pd\n",
        "import numpy as np\n",
        "\n",
        "# Load the TSV file into a DataFrame\n",
        "file_path = 'chipotle.tsv'\n",
        "chipotle_df = pd.read_csv(file_path, sep='\\t')\n",
        "\n",
        "# Save the DataFrame as a CSV file\n",
        "output_csv_file = 'chipotle.csv'\n",
        "chipotle_df.to_csv(output_csv_file, index=False)\n",
        "\n",
        "print(\"Conversion completed. CSV file saved successfully.\")\n"
      ]
    },
    {
      "cell_type": "markdown",
      "source": [
        "\n",
        "**1. Missing Values:\n",
        "Question: Check for missing values in each column (Order ID, Quantity, Item Name, Choice Description, Item Price). How should missing values be handled?**"
      ],
      "metadata": {
        "id": "sJ20t7zRoZu2"
      }
    },
    {
      "cell_type": "code",
      "source": [
        "# Check for missing values in each column\n",
        "missing_values = chipotle_df.isnull().sum()\n",
        "print(\"Missing values in each column:\")\n",
        "print(missing_values)\n"
      ],
      "metadata": {
        "colab": {
          "base_uri": "https://localhost:8080/"
        },
        "id": "d0daZNQSnWqy",
        "outputId": "84324b81-2c22-445a-cb15-a0604192bcdd"
      },
      "execution_count": 13,
      "outputs": [
        {
          "output_type": "stream",
          "name": "stdout",
          "text": [
            "Missing values in each column:\n",
            "order_id                 0\n",
            "quantity                 0\n",
            "item_name                0\n",
            "choice_description    1246\n",
            "item_price               0\n",
            "dtype: int64\n"
          ]
        }
      ]
    },
    {
      "cell_type": "code",
      "source": [
        "# Replace missing values in the 'choice_description' column with 'No description'\n",
        "chipotle_df['choice_description'].fillna('No description', inplace=True)\n"
      ],
      "metadata": {
        "id": "5eDXViPeoAzA"
      },
      "execution_count": 14,
      "outputs": []
    },
    {
      "cell_type": "code",
      "source": [
        "# Check for missing values in each column\n",
        "missing_values = chipotle_df.isnull().sum()\n",
        "print(\"After removing missing values in each column:\")\n",
        "print(missing_values)\n"
      ],
      "metadata": {
        "colab": {
          "base_uri": "https://localhost:8080/"
        },
        "id": "eI51dWSKoJ78",
        "outputId": "8aabd0b7-3617-4cef-fc34-f17d584650d3"
      },
      "execution_count": 15,
      "outputs": [
        {
          "output_type": "stream",
          "name": "stdout",
          "text": [
            "After removing missing values in each column:\n",
            "order_id              0\n",
            "quantity              0\n",
            "item_name             0\n",
            "choice_description    0\n",
            "item_price            0\n",
            "dtype: int64\n"
          ]
        }
      ]
    },
    {
      "cell_type": "markdown",
      "source": [
        "**2. Data Types:\n",
        "Question: Verify the data types of each column. Do they align with their expected types, and should any adjustments be made?**"
      ],
      "metadata": {
        "id": "eqdydS2mocwq"
      }
    },
    {
      "cell_type": "code",
      "source": [
        "# Check the data types of each column\n",
        "data_types = chipotle_df.dtypes\n",
        "print(data_types)\n"
      ],
      "metadata": {
        "colab": {
          "base_uri": "https://localhost:8080/"
        },
        "id": "O_zs-A44oP4z",
        "outputId": "46959ce2-1cb0-4dcc-8936-6202d063078e"
      },
      "execution_count": 16,
      "outputs": [
        {
          "output_type": "stream",
          "name": "stdout",
          "text": [
            "order_id               int64\n",
            "quantity               int64\n",
            "item_name             object\n",
            "choice_description    object\n",
            "item_price            object\n",
            "dtype: object\n"
          ]
        }
      ]
    },
    {
      "cell_type": "code",
      "source": [
        "# Remove the dollar sign ('$') and convert to floats\n",
        "chipotle_df['item_price'] = chipotle_df['item_price'].str.replace('$', '').astype(float)\n",
        "\n",
        "# Verify the conversion\n",
        "print(chipotle_df.dtypes)\n"
      ],
      "metadata": {
        "colab": {
          "base_uri": "https://localhost:8080/"
        },
        "id": "onT4cnCXonp5",
        "outputId": "e5232ea4-ed79-439f-8979-e0b1c6ff36c1"
      },
      "execution_count": 17,
      "outputs": [
        {
          "output_type": "stream",
          "name": "stdout",
          "text": [
            "order_id                int64\n",
            "quantity                int64\n",
            "item_name              object\n",
            "choice_description     object\n",
            "item_price            float64\n",
            "dtype: object\n"
          ]
        },
        {
          "output_type": "stream",
          "name": "stderr",
          "text": [
            "<ipython-input-17-f9db79de38e3>:2: FutureWarning: The default value of regex will change from True to False in a future version. In addition, single character regular expressions will *not* be treated as literal strings when regex=True.\n",
            "  chipotle_df['item_price'] = chipotle_df['item_price'].str.replace('$', '').astype(float)\n"
          ]
        }
      ]
    },
    {
      "cell_type": "markdown",
      "source": [
        "**3. Duplicated Entries:\n",
        "Question: Identify and handle duplicated entries in the dataset. How might duplicates impact analysis, and what is the appropriate action?**"
      ],
      "metadata": {
        "id": "kCxGvgXtpTwU"
      }
    },
    {
      "cell_type": "code",
      "source": [
        "# Identify duplicated entries\n",
        "all_duplicated_rows = chipotle_df[chipotle_df.duplicated()]\n",
        "\n",
        "# Check if there are any duplicated entries\n",
        "if not all_duplicated_rows.empty:\n",
        "    print(\"Duplicated entries found. Here are the duplicated rows:\")\n",
        "    print(all_duplicated_rows)\n",
        "else:\n",
        "    print(\"No duplicated entries found.\")\n"
      ],
      "metadata": {
        "colab": {
          "base_uri": "https://localhost:8080/"
        },
        "id": "VftLv9K7o9Ul",
        "outputId": "3193026b-949e-4866-bacc-b4e05dc496e0"
      },
      "execution_count": 18,
      "outputs": [
        {
          "output_type": "stream",
          "name": "stdout",
          "text": [
            "Duplicated entries found. Here are the duplicated rows:\n",
            "      order_id  quantity                            item_name  \\\n",
            "238        103         1                        Steak Burrito   \n",
            "248        108         1                          Canned Soda   \n",
            "297        129         1                        Steak Burrito   \n",
            "381        165         1                    Canned Soft Drink   \n",
            "484        205         1                         Chicken Bowl   \n",
            "567        233         1                    Canned Soft Drink   \n",
            "617        254         1                                Chips   \n",
            "684        282         1                    Canned Soft Drink   \n",
            "773        319         1                         Chicken Bowl   \n",
            "908        376         1                        Steak Burrito   \n",
            "924        381         1                   Chicken Soft Tacos   \n",
            "1003       412         1                        Bottled Water   \n",
            "1117       462         1                      Chicken Burrito   \n",
            "1203       491         1                      Chicken Burrito   \n",
            "1245       507         1                    Canned Soft Drink   \n",
            "1381       561         1                    Canned Soft Drink   \n",
            "1410       573         1                        Bottled Water   \n",
            "1420       576         1                        Barbacoa Bowl   \n",
            "1421       576         1                  Barbacoa Salad Bowl   \n",
            "1502       610         1                      Chicken Burrito   \n",
            "1534       624         1  Chips and Tomatillo-Red Chili Salsa   \n",
            "1548       628         1                  Chips and Guacamole   \n",
            "1612       651         1                                 Izze   \n",
            "1791       724         1                    Canned Soft Drink   \n",
            "1792       724         1                    Canned Soft Drink   \n",
            "2078       838         1                   Chicken Soft Tacos   \n",
            "2127       856         1                      Chicken Burrito   \n",
            "2307       926         1                         Chicken Bowl   \n",
            "2318       926         1                         Chicken Bowl   \n",
            "2362       940         1                    Canned Soft Drink   \n",
            "2448       972         1                         Chicken Bowl   \n",
            "2553      1011         1                    Canned Soft Drink   \n",
            "2554      1011         1                    Canned Soft Drink   \n",
            "2560      1013         1                  Chips and Guacamole   \n",
            "2576      1020         1  Chips and Tomatillo Red Chili Salsa   \n",
            "2662      1057         1                   Chicken Soft Tacos   \n",
            "2708      1074         1                                Chips   \n",
            "2717      1078         1                         Chicken Bowl   \n",
            "2833      1125         1                      Chicken Burrito   \n",
            "2881      1144         1                        Bottled Water   \n",
            "2973      1182         1                         Chicken Bowl   \n",
            "2977      1184         1                           Steak Bowl   \n",
            "3121      1244         1                  Chips and Guacamole   \n",
            "3430      1377         1  Chips and Tomatillo Red Chili Salsa   \n",
            "3637      1454         1                   Chicken Soft Tacos   \n",
            "3716      1484         1                          Canned Soda   \n",
            "3764      1507         1                      Chicken Burrito   \n",
            "3829      1534         1                      Chicken Burrito   \n",
            "3924      1574         1                        Bottled Water   \n",
            "4112      1647         1                         Chicken Bowl   \n",
            "4155      1660         1                  Chips and Guacamole   \n",
            "4236      1691         1                         Chicken Bowl   \n",
            "4266      1701         1                                Chips   \n",
            "4372      1745         1                  Chips and Guacamole   \n",
            "4463      1778         1                    Canned Soft Drink   \n",
            "4479      1785         1                        Bottled Water   \n",
            "4544      1806         1                        Bottled Water   \n",
            "4570      1817         1                        Bottled Water   \n",
            "4603      1827         1                     Barbacoa Burrito   \n",
            "\n",
            "                                     choice_description  item_price  \n",
            "238   [Tomatillo Red Chili Salsa, [Rice, Black Beans...       11.75  \n",
            "248                                      [Mountain Dew]        1.09  \n",
            "297   [Tomatillo Green Chili Salsa, [Rice, Cheese, G...       11.75  \n",
            "381                                              [Coke]        1.25  \n",
            "484   [Fresh Tomato Salsa, [Fajita Vegetables, Rice,...        8.75  \n",
            "567                                         [Diet Coke]        1.25  \n",
            "617                                      No description        2.15  \n",
            "684                                              [Coke]        1.25  \n",
            "773   [Tomatillo-Green Chili Salsa (Medium), Black B...        8.49  \n",
            "908   [Roasted Chili Corn Salsa (Medium), [Rice, Faj...        8.99  \n",
            "924           [Tomatillo-Red Chili Salsa (Hot), Cheese]        8.49  \n",
            "1003                                     No description        1.50  \n",
            "1117  [Fresh Tomato Salsa, [Rice, Black Beans, Chees...       11.25  \n",
            "1203  [Fresh Tomato Salsa, [Cheese, Sour Cream, Lett...        8.75  \n",
            "1245                                         [Lemonade]        1.25  \n",
            "1381                                             [Coke]        1.25  \n",
            "1410                                     No description        1.50  \n",
            "1420                         [Roasted Chili Corn Salsa]        9.25  \n",
            "1421                         [Roasted Chili Corn Salsa]        9.39  \n",
            "1502  [Fresh Tomato Salsa, [Fajita Vegetables, Rice,...        8.75  \n",
            "1534                                     No description        2.39  \n",
            "1548                                     No description        4.45  \n",
            "1612                                       [Blackberry]        3.39  \n",
            "1791                                             [Coke]        1.25  \n",
            "1792                                             [Coke]        1.25  \n",
            "2078  [Fresh Tomato Salsa, [Cheese, Sour Cream, Lett...        8.75  \n",
            "2127  [Fresh Tomato Salsa, [Rice, Black Beans, Chees...       11.25  \n",
            "2307  [Roasted Chili Corn Salsa, [Fajita Vegetables,...        8.75  \n",
            "2318  [Roasted Chili Corn Salsa, [Fajita Vegetables,...        8.75  \n",
            "2362                                             [Coke]        1.25  \n",
            "2448  [Tomatillo Red Chili Salsa, [Rice, Black Beans...        8.75  \n",
            "2553                                             [Coke]        1.25  \n",
            "2554                                             [Coke]        1.25  \n",
            "2560                                     No description        4.45  \n",
            "2576                                     No description        2.95  \n",
            "2662  [Tomatillo Red Chili Salsa, [Fajita Vegetables...       11.25  \n",
            "2708                                     No description        2.15  \n",
            "2717  [Fresh Tomato Salsa, [Rice, Black Beans, Chees...       11.25  \n",
            "2833      [Fresh Tomato Salsa, [Rice, Cheese, Lettuce]]        8.75  \n",
            "2881                                     No description        1.50  \n",
            "2973  [Tomatillo-Red Chili Salsa (Hot), [Rice, Black...        8.49  \n",
            "2977  [Fresh Tomato Salsa, [Rice, Pinto Beans, Chees...        9.25  \n",
            "3121                                     No description        4.45  \n",
            "3430                                     No description        2.95  \n",
            "3637                         [Fresh Tomato Salsa, Rice]        8.75  \n",
            "3716                                       [Dr. Pepper]        1.09  \n",
            "3764  [Fresh Tomato Salsa, [Rice, Black Beans, Chees...        8.75  \n",
            "3829  [Fresh Tomato Salsa, [Rice, Cheese, Sour Cream...        8.75  \n",
            "3924                                     No description        1.50  \n",
            "4112  [Fresh Tomato Salsa, [Fajita Vegetables, Rice,...       11.25  \n",
            "4155                                     No description        4.45  \n",
            "4236                                       [White Rice]        8.50  \n",
            "4266                                     No description        2.15  \n",
            "4372                                     No description        4.45  \n",
            "4463                                         [Lemonade]        1.25  \n",
            "4479                                     No description        1.50  \n",
            "4544                                     No description        1.50  \n",
            "4570                                     No description        1.50  \n",
            "4603                      [Tomatillo Green Chili Salsa]        9.25  \n"
          ]
        }
      ]
    },
    {
      "cell_type": "markdown",
      "source": [
        "**4. Quantity and Item Price:\n",
        "Question: Examine the Quantity and Item Price columns. Are there any inconsistencies or anomalies that need correction?**"
      ],
      "metadata": {
        "id": "SuoVklX1p_4f"
      }
    },
    {
      "cell_type": "code",
      "source": [
        "# Check unique values and their frequencies in the Quantity column\n",
        "quantity_counts = chipotle_df['quantity'].value_counts()\n",
        "\n",
        "# Display the unique values and their frequencies\n",
        "print(\"Quantity Column:\")\n",
        "print(quantity_counts)\n",
        "\n"
      ],
      "metadata": {
        "colab": {
          "base_uri": "https://localhost:8080/"
        },
        "id": "fNCCNT_jppQ_",
        "outputId": "a40adfdb-d2d8-4d97-a137-c6917a9d4109"
      },
      "execution_count": 19,
      "outputs": [
        {
          "output_type": "stream",
          "name": "stdout",
          "text": [
            "Quantity Column:\n",
            "1     4355\n",
            "2      224\n",
            "3       28\n",
            "4       10\n",
            "5        1\n",
            "15       1\n",
            "7        1\n",
            "8        1\n",
            "10       1\n",
            "Name: quantity, dtype: int64\n"
          ]
        }
      ]
    },
    {
      "cell_type": "code",
      "source": [
        "# Check unique values and their frequencies in the Item Price column\n",
        "item_price_counts = chipotle_df['item_price'].value_counts()\n",
        "\n",
        "# Display the unique values and their frequencies\n",
        "print(\"\\nItem Price Column:\")\n",
        "print(item_price_counts)\n"
      ],
      "metadata": {
        "colab": {
          "base_uri": "https://localhost:8080/"
        },
        "id": "2aW5b5qcqiRC",
        "outputId": "c2c15298-0266-4a20-b673-23b3c1408942"
      },
      "execution_count": 20,
      "outputs": [
        {
          "output_type": "stream",
          "name": "stdout",
          "text": [
            "\n",
            "Item Price Column:\n",
            "8.75     730\n",
            "11.25    521\n",
            "9.25     398\n",
            "4.45     349\n",
            "8.49     311\n",
            "        ... \n",
            "13.35      1\n",
            "7.50       1\n",
            "4.36       1\n",
            "11.80      1\n",
            "11.49      1\n",
            "Name: item_price, Length: 78, dtype: int64\n"
          ]
        }
      ]
    },
    {
      "cell_type": "markdown",
      "source": [
        "**5. Choice Description:\n",
        "Question: Analyze the Choice Description column. How should choices be handled, especially when there are multiple descriptions for a single item?**"
      ],
      "metadata": {
        "id": "QG0GyfoUrOyc"
      }
    },
    {
      "cell_type": "code",
      "source": [
        "# Check for missing values in the Choice Description column\n",
        "missing_values_choice_description = chipotle_df['choice_description'].isnull().sum()\n",
        "\n",
        "# Display the number of missing values\n",
        "print(\"Number of missing values in Choice Description column:\", missing_values_choice_description)\n"
      ],
      "metadata": {
        "colab": {
          "base_uri": "https://localhost:8080/"
        },
        "id": "ggxZpYS1qmte",
        "outputId": "02e7dfeb-b7d1-4cc3-8de5-ca901f5f56cf"
      },
      "execution_count": 21,
      "outputs": [
        {
          "output_type": "stream",
          "name": "stdout",
          "text": [
            "Number of missing values in Choice Description column: 0\n"
          ]
        }
      ]
    },
    {
      "cell_type": "code",
      "source": [
        "# Check unique values and their frequencies in the Choice Description column\n",
        "choice_description_counts = chipotle_df['choice_description'].value_counts()\n",
        "\n",
        "# Display the unique values and their frequencies\n",
        "print(\"\\nChoice Description Column:\")\n",
        "print(choice_description_counts)\n"
      ],
      "metadata": {
        "colab": {
          "base_uri": "https://localhost:8080/"
        },
        "id": "vNnn_fDwrYSd",
        "outputId": "96d44d46-ab5d-40bd-ed74-a3e1c047b987"
      },
      "execution_count": 22,
      "outputs": [
        {
          "output_type": "stream",
          "name": "stdout",
          "text": [
            "\n",
            "Choice Description Column:\n",
            "No description                                                                                                                                   1246\n",
            "[Diet Coke]                                                                                                                                       134\n",
            "[Coke]                                                                                                                                            123\n",
            "[Sprite]                                                                                                                                           77\n",
            "[Fresh Tomato Salsa, [Rice, Black Beans, Cheese, Sour Cream, Lettuce]]                                                                             42\n",
            "                                                                                                                                                 ... \n",
            "[Fresh Tomato Salsa (Mild), [Pinto Beans, Black Beans, Rice, Cheese, Sour Cream, Lettuce]]                                                          1\n",
            "[[Fresh Tomato Salsa (Mild), Roasted Chili Corn Salsa (Medium), Tomatillo-Red Chili Salsa (Hot)], [Pinto Beans, Cheese, Sour Cream, Lettuce]]       1\n",
            "[Fresh Tomato (Mild), [Guacamole, Rice, Black Beans]]                                                                                               1\n",
            "[[Tomatillo-Green Chili Salsa (Medium), Tomatillo-Red Chili Salsa (Hot)], [Black Beans, Rice, Cheese, Lettuce]]                                     1\n",
            "[Tomatillo Green Chili Salsa, [Rice, Fajita Vegetables, Black Beans, Guacamole]]                                                                    1\n",
            "Name: choice_description, Length: 1044, dtype: int64\n"
          ]
        }
      ]
    },
    {
      "cell_type": "markdown",
      "source": [
        "**6. Handling Special Characters:\n",
        "Question: Check for special characters in text-based columns (e.g., Item Name, Choice Description). How can these be addressed for consistency?**"
      ],
      "metadata": {
        "id": "RG_01wWbsCN9"
      }
    },
    {
      "cell_type": "code",
      "source": [
        "import random\n",
        "import re\n",
        "\n",
        "# Define a function to check for special characters in a random subset of entries\n",
        "def check_special_characters_random(column):\n",
        "    special_characters = r'[^\\w\\s]'\n",
        "    # Select a random subset of entries\n",
        "    random_entries = random.sample(column.tolist(), min(len(column), 10))\n",
        "    for entry in random_entries:\n",
        "        if re.search(special_characters, entry):\n",
        "            print(f\"Special character found in entry: {entry}\")\n",
        "\n",
        "# Check for special characters in a random subset of Item Name column\n",
        "print(\"Checking for special characters in a random subset of Item Name column:\")\n",
        "check_special_characters_random(chipotle_df['item_name'])\n",
        "\n",
        "# Check for special characters in a random subset of Choice Description column\n",
        "print(\"\\nChecking for special characters in a random subset of Choice Description column:\")\n",
        "check_special_characters_random(chipotle_df['choice_description'])\n"
      ],
      "metadata": {
        "colab": {
          "base_uri": "https://localhost:8080/"
        },
        "id": "8nju4FKsrpIZ",
        "outputId": "9217df98-20e1-405e-b569-f89306a18c1f"
      },
      "execution_count": 23,
      "outputs": [
        {
          "output_type": "stream",
          "name": "stdout",
          "text": [
            "Checking for special characters in a random subset of Item Name column:\n",
            "\n",
            "Checking for special characters in a random subset of Choice Description column:\n",
            "Special character found in entry: [Fresh Tomato Salsa, [Rice, Fajita Vegetables, Pinto Beans, Cheese, Lettuce, Guacamole]]\n",
            "Special character found in entry: [Fresh Tomato Salsa, Rice]\n",
            "Special character found in entry: [Roasted Chili Corn Salsa, [Rice, Black Beans, Cheese, Sour Cream, Guacamole]]\n",
            "Special character found in entry: [Fresh Tomato Salsa (Mild), [Pinto Beans, Rice, Sour Cream, Cheese]]\n",
            "Special character found in entry: [Tomatillo-Green Chili Salsa (Medium), [Rice, Cheese, Sour Cream, Lettuce]]\n",
            "Special character found in entry: [Fresh Tomato Salsa (Mild), [Rice, Fajita Veggies, Guacamole, Lettuce]]\n",
            "Special character found in entry: [Tomatillo-Red Chili Salsa (Hot), [Black Beans, Rice, Cheese]]\n",
            "Special character found in entry: [Fresh Tomato Salsa (Mild), [Sour Cream, Lettuce, Cheese, Black Beans, Rice]]\n",
            "Special character found in entry: [Tomatillo Green Chili Salsa, [Rice, Pinto Beans, Sour Cream, Lettuce]]\n"
          ]
        }
      ]
    },
    {
      "cell_type": "markdown",
      "source": [
        "**7. Order Id Integrity:\n",
        "Question: Cross-reference the Order ID column for integrity. Are there any irregularities or patterns that need validation?**"
      ],
      "metadata": {
        "id": "wXEJmJfShIrI"
      }
    },
    {
      "cell_type": "code",
      "source": [
        "# Check for unique order IDs\n",
        "unique_order_ids = chipotle_df['order_id'].nunique()\n",
        "total_orders = chipotle_df.shape[0]\n",
        "\n",
        "if unique_order_ids == total_orders:\n",
        "    print(\"All order IDs are unique.\")\n",
        "else:\n",
        "    print(\"Duplicate order IDs found.\")\n"
      ],
      "metadata": {
        "colab": {
          "base_uri": "https://localhost:8080/"
        },
        "id": "Ow30zCeesTJs",
        "outputId": "74038d85-b66a-4cdd-fce2-0c9e60e618b4"
      },
      "execution_count": 24,
      "outputs": [
        {
          "output_type": "stream",
          "name": "stdout",
          "text": [
            "Duplicate order IDs found.\n"
          ]
        }
      ]
    },
    {
      "cell_type": "code",
      "source": [
        "# Find duplicate order IDs\n",
        "duplicate_order_ids = chipotle_df[chipotle_df.duplicated(subset=['order_id'], keep=False)]\n",
        "print(\"Duplicate order IDs found:\")\n",
        "print(duplicate_order_ids['order_id'])\n"
      ],
      "metadata": {
        "colab": {
          "base_uri": "https://localhost:8080/"
        },
        "id": "kjVXlkEmhRBW",
        "outputId": "b815a785-4208-433f-e9dd-67d7c664caf4"
      },
      "execution_count": 25,
      "outputs": [
        {
          "output_type": "stream",
          "name": "stdout",
          "text": [
            "Duplicate order IDs found:\n",
            "0          1\n",
            "1          1\n",
            "2          1\n",
            "3          1\n",
            "5          3\n",
            "        ... \n",
            "4617    1833\n",
            "4618    1833\n",
            "4619    1834\n",
            "4620    1834\n",
            "4621    1834\n",
            "Name: order_id, Length: 4494, dtype: int64\n"
          ]
        }
      ]
    },
    {
      "cell_type": "code",
      "source": [
        "# Remove duplicate entries based on order_id\n",
        "unique_orders_df = chipotle_df.drop_duplicates(subset='order_id')\n",
        "\n",
        "# Check the shape of the new DataFrame to verify duplicates were removed\n",
        "print(\"Shape of DataFrame after removing duplicates:\", unique_orders_df.shape)\n"
      ],
      "metadata": {
        "colab": {
          "base_uri": "https://localhost:8080/"
        },
        "id": "GPVkYMbNhdWo",
        "outputId": "1c79e0c3-3282-47a3-9323-51909739fe44"
      },
      "execution_count": 26,
      "outputs": [
        {
          "output_type": "stream",
          "name": "stdout",
          "text": [
            "Shape of DataFrame after removing duplicates: (1834, 5)\n"
          ]
        }
      ]
    },
    {
      "cell_type": "markdown",
      "source": [
        "**8. Item Name Standardization:\n",
        "Question: Standardize the Item Name column. Are there variations that can be unified for better analysis?**"
      ],
      "metadata": {
        "id": "iN-1ag4ViOXp"
      }
    },
    {
      "cell_type": "code",
      "source": [
        "# Step 1: Identify Variations (if any)\n",
        "# You can use value_counts() to see the variations in the Item Name column\n",
        "print(chipotle_df['item_name'].value_counts())\n",
        "\n",
        "# Step 2: Create a Mapping Dictionary\n",
        "item_name_mapping = {\n",
        "    'Bowl - Chicken': 'Chicken Bowl',\n",
        "    'Bowl - Steak': 'Steak Bowl',\n",
        "    # Add more mappings as needed\n",
        "}\n",
        "\n",
        "# Step 3: Apply Mapping\n",
        "chipotle_df['item_name'] = chipotle_df['item_name'].replace(item_name_mapping)\n",
        "\n",
        "# Step 4: Verify Standardization\n",
        "print(chipotle_df['item_name'].value_counts())\n",
        "\n"
      ],
      "metadata": {
        "colab": {
          "base_uri": "https://localhost:8080/"
        },
        "id": "HhA9vWYHh_x3",
        "outputId": "b81f8530-16f1-414e-8744-093c6a0c9008"
      },
      "execution_count": 27,
      "outputs": [
        {
          "output_type": "stream",
          "name": "stdout",
          "text": [
            "Chicken Bowl                             726\n",
            "Chicken Burrito                          553\n",
            "Chips and Guacamole                      479\n",
            "Steak Burrito                            368\n",
            "Canned Soft Drink                        301\n",
            "Steak Bowl                               211\n",
            "Chips                                    211\n",
            "Bottled Water                            162\n",
            "Chicken Soft Tacos                       115\n",
            "Chips and Fresh Tomato Salsa             110\n",
            "Chicken Salad Bowl                       110\n",
            "Canned Soda                              104\n",
            "Side of Chips                            101\n",
            "Veggie Burrito                            95\n",
            "Barbacoa Burrito                          91\n",
            "Veggie Bowl                               85\n",
            "Carnitas Bowl                             68\n",
            "Barbacoa Bowl                             66\n",
            "Carnitas Burrito                          59\n",
            "Steak Soft Tacos                          55\n",
            "6 Pack Soft Drink                         54\n",
            "Chips and Tomatillo Red Chili Salsa       48\n",
            "Chicken Crispy Tacos                      47\n",
            "Chips and Tomatillo Green Chili Salsa     43\n",
            "Carnitas Soft Tacos                       40\n",
            "Steak Crispy Tacos                        35\n",
            "Chips and Tomatillo-Green Chili Salsa     31\n",
            "Steak Salad Bowl                          29\n",
            "Nantucket Nectar                          27\n",
            "Barbacoa Soft Tacos                       25\n",
            "Chips and Roasted Chili Corn Salsa        22\n",
            "Izze                                      20\n",
            "Chips and Tomatillo-Red Chili Salsa       20\n",
            "Veggie Salad Bowl                         18\n",
            "Chips and Roasted Chili-Corn Salsa        18\n",
            "Barbacoa Crispy Tacos                     11\n",
            "Barbacoa Salad Bowl                       10\n",
            "Chicken Salad                              9\n",
            "Veggie Soft Tacos                          7\n",
            "Carnitas Crispy Tacos                      7\n",
            "Veggie Salad                               6\n",
            "Carnitas Salad Bowl                        6\n",
            "Burrito                                    6\n",
            "Steak Salad                                4\n",
            "Crispy Tacos                               2\n",
            "Salad                                      2\n",
            "Bowl                                       2\n",
            "Chips and Mild Fresh Tomato Salsa          1\n",
            "Veggie Crispy Tacos                        1\n",
            "Carnitas Salad                             1\n",
            "Name: item_name, dtype: int64\n",
            "Chicken Bowl                             726\n",
            "Chicken Burrito                          553\n",
            "Chips and Guacamole                      479\n",
            "Steak Burrito                            368\n",
            "Canned Soft Drink                        301\n",
            "Steak Bowl                               211\n",
            "Chips                                    211\n",
            "Bottled Water                            162\n",
            "Chicken Soft Tacos                       115\n",
            "Chips and Fresh Tomato Salsa             110\n",
            "Chicken Salad Bowl                       110\n",
            "Canned Soda                              104\n",
            "Side of Chips                            101\n",
            "Veggie Burrito                            95\n",
            "Barbacoa Burrito                          91\n",
            "Veggie Bowl                               85\n",
            "Carnitas Bowl                             68\n",
            "Barbacoa Bowl                             66\n",
            "Carnitas Burrito                          59\n",
            "Steak Soft Tacos                          55\n",
            "6 Pack Soft Drink                         54\n",
            "Chips and Tomatillo Red Chili Salsa       48\n",
            "Chicken Crispy Tacos                      47\n",
            "Chips and Tomatillo Green Chili Salsa     43\n",
            "Carnitas Soft Tacos                       40\n",
            "Steak Crispy Tacos                        35\n",
            "Chips and Tomatillo-Green Chili Salsa     31\n",
            "Steak Salad Bowl                          29\n",
            "Nantucket Nectar                          27\n",
            "Barbacoa Soft Tacos                       25\n",
            "Chips and Roasted Chili Corn Salsa        22\n",
            "Izze                                      20\n",
            "Chips and Tomatillo-Red Chili Salsa       20\n",
            "Veggie Salad Bowl                         18\n",
            "Chips and Roasted Chili-Corn Salsa        18\n",
            "Barbacoa Crispy Tacos                     11\n",
            "Barbacoa Salad Bowl                       10\n",
            "Chicken Salad                              9\n",
            "Veggie Soft Tacos                          7\n",
            "Carnitas Crispy Tacos                      7\n",
            "Veggie Salad                               6\n",
            "Carnitas Salad Bowl                        6\n",
            "Burrito                                    6\n",
            "Steak Salad                                4\n",
            "Crispy Tacos                               2\n",
            "Salad                                      2\n",
            "Bowl                                       2\n",
            "Chips and Mild Fresh Tomato Salsa          1\n",
            "Veggie Crispy Tacos                        1\n",
            "Carnitas Salad                             1\n",
            "Name: item_name, dtype: int64\n"
          ]
        }
      ]
    },
    {
      "cell_type": "markdown",
      "source": [
        "**9. Quantity and Price Relationships:\n",
        "Question: Investigate the relationships between Quantity and Item Price. Are there cases where adjustments need to be made for accurate analysis?**"
      ],
      "metadata": {
        "id": "HlVe3ZkjjzVI"
      }
    },
    {
      "cell_type": "code",
      "source": [
        "\n",
        "# Step 1: Calculate the total price for each order\n",
        "chipotle_df['total_price'] = chipotle_df['quantity'] * chipotle_df['item_price']\n",
        "\n",
        "# Step 2: Compare the calculated total price with the actual price in the dataset\n",
        "price_comparison = chipotle_df[['quantity', 'item_price', 'total_price']]\n",
        "print(price_comparison.head(10))  # Display a sample of the comparison\n",
        "\n",
        "# Step 3: Identify discrepancies or inconsistencies\n",
        "# You can visually inspect the comparison and look for any significant differences.\n",
        "\n",
        "# Step 4: Take appropriate actions based on the findings\n",
        "# If there are discrepancies, investigate further to understand the reasons behind them\n",
        "# Make adjustments or corrections as necessary to ensure data integrity and accuracy.\n"
      ],
      "metadata": {
        "colab": {
          "base_uri": "https://localhost:8080/"
        },
        "id": "aN4niRPTiLbn",
        "outputId": "400c5b86-6c97-49b2-ed0d-c97af1deaf27"
      },
      "execution_count": 28,
      "outputs": [
        {
          "output_type": "stream",
          "name": "stdout",
          "text": [
            "   quantity  item_price  total_price\n",
            "0         1        2.39         2.39\n",
            "1         1        3.39         3.39\n",
            "2         1        3.39         3.39\n",
            "3         1        2.39         2.39\n",
            "4         2       16.98        33.96\n",
            "5         1       10.98        10.98\n",
            "6         1        1.69         1.69\n",
            "7         1       11.75        11.75\n",
            "8         1        9.25         9.25\n",
            "9         1        9.25         9.25\n"
          ]
        }
      ]
    },
    {
      "cell_type": "markdown",
      "source": [
        "**10. Data Integrity Check:\n",
        "Question: Perform a data integrity check by ensuring that quantities and prices align with the corresponding items and descriptions.**"
      ],
      "metadata": {
        "id": "-Iqy4RZdlBRw"
      }
    },
    {
      "cell_type": "code",
      "source": [
        "print(chipotle_df['item_price'].dtype)"
      ],
      "metadata": {
        "colab": {
          "base_uri": "https://localhost:8080/"
        },
        "id": "hHNcDKPrjM3V",
        "outputId": "7dd4a154-bce7-4258-ea3d-9885cb609acf"
      },
      "execution_count": 29,
      "outputs": [
        {
          "output_type": "stream",
          "name": "stdout",
          "text": [
            "float64\n"
          ]
        }
      ]
    },
    {
      "cell_type": "code",
      "source": [
        "print(chipotle_df.dtypes)\n"
      ],
      "metadata": {
        "colab": {
          "base_uri": "https://localhost:8080/"
        },
        "id": "V1wndq47lm_E",
        "outputId": "2356a7bd-f7db-414f-abef-d18967302890"
      },
      "execution_count": 30,
      "outputs": [
        {
          "output_type": "stream",
          "name": "stdout",
          "text": [
            "order_id                int64\n",
            "quantity                int64\n",
            "item_name              object\n",
            "choice_description     object\n",
            "item_price            float64\n",
            "total_price           float64\n",
            "dtype: object\n"
          ]
        }
      ]
    },
    {
      "cell_type": "markdown",
      "source": [
        "**11. Converting to CSV:\n",
        "Optional Question: If needed, convert the cleaned dataset to a CSV file using the to_csv function with sep=','.**"
      ],
      "metadata": {
        "id": "y3l1UWHEmuh4"
      }
    },
    {
      "cell_type": "code",
      "source": [
        "# Define the file path for the CSV file\n",
        "cleaned_csv_file = 'cleaned_chipotle.csv'\n",
        "\n",
        "# Convert the cleaned dataset to a CSV file\n",
        "chipotle_df.to_csv(cleaned_csv_file, sep=',', index=False)\n",
        "\n",
        "print(\"CSV file saved successfully:\", cleaned_csv_file)\n"
      ],
      "metadata": {
        "colab": {
          "base_uri": "https://localhost:8080/"
        },
        "id": "EeLHz-S1mhY9",
        "outputId": "fe4e4d04-d43f-43b8-db66-91aa8505add2"
      },
      "execution_count": 31,
      "outputs": [
        {
          "output_type": "stream",
          "name": "stdout",
          "text": [
            "CSV file saved successfully: cleaned_chipotle.csv\n"
          ]
        }
      ]
    },
    {
      "cell_type": "code",
      "source": [
        "import os\n",
        "\n",
        "# Get the current working directory\n",
        "current_directory = os.getcwd()\n",
        "\n",
        "# Define the file name\n",
        "cleaned_csv_file_name = 'cleaned_chipotle.csv'\n",
        "\n",
        "# Construct the full file path\n",
        "cleaned_csv_file_path = os.path.join(current_directory, cleaned_csv_file_name)\n",
        "\n",
        "print(\"File path for saving the cleaned CSV file:\", cleaned_csv_file_path)\n",
        "\n"
      ],
      "metadata": {
        "colab": {
          "base_uri": "https://localhost:8080/"
        },
        "id": "rpcp28lvm1Zv",
        "outputId": "35588d96-cefc-4a41-8f45-013b02091ecb"
      },
      "execution_count": 32,
      "outputs": [
        {
          "output_type": "stream",
          "name": "stdout",
          "text": [
            "File path for saving the cleaned CSV file: /content/cleaned_chipotle.csv\n"
          ]
        }
      ]
    },
    {
      "cell_type": "code",
      "source": [
        "import pandas as pd\n",
        "\n",
        "# Load the cleaned Chipotle dataset\n",
        "chipotle_df = pd.read_csv('cleaned_chipotle.csv')\n",
        "\n",
        "# Option 1: Label Encoding\n",
        "# You can use LabelEncoder from scikit-learn\n",
        "from sklearn.preprocessing import LabelEncoder\n",
        "\n",
        "label_encoder = LabelEncoder()\n",
        "chipotle_df['item_name_encoded'] = label_encoder.fit_transform(chipotle_df['item_name'])\n",
        "\n",
        "# Option 2: One-Hot Encoding\n",
        "# You can use pandas get_dummies() function\n",
        "item_name_dummies = pd.get_dummies(chipotle_df['item_name'], prefix='item')\n",
        "\n",
        "# Concatenate the one-hot encoded columns with the original dataframe\n",
        "chipotle_df = pd.concat([chipotle_df, item_name_dummies], axis=1)\n",
        "\n",
        "# Now, you have the original dataframe with the item name column encoded or one-hot encoded,\n",
        "# depending on the method you chose.\n",
        "\n",
        "# You can drop the original 'item_name' column if you don't need it anymore\n",
        "chipotle_df.drop('item_name', axis=1, inplace=True)\n",
        "\n",
        "# Save the transformed dataset to a new CSV file\n",
        "transformed_file_path = 'transformed_chipotle.csv'\n",
        "chipotle_df.to_csv(transformed_file_path, index=False)\n",
        "\n",
        "print(\"Transformed dataset saved to:\", transformed_file_path)\n"
      ],
      "metadata": {
        "colab": {
          "base_uri": "https://localhost:8080/"
        },
        "id": "Fb8W0r_8nVTU",
        "outputId": "d0275810-18ed-48dc-9389-17ed556ed91a"
      },
      "execution_count": 33,
      "outputs": [
        {
          "output_type": "stream",
          "name": "stdout",
          "text": [
            "Transformed dataset saved to: transformed_chipotle.csv\n"
          ]
        }
      ]
    },
    {
      "cell_type": "markdown",
      "source": [
        "**13. Consistent Quantity and Price Units:\n",
        "Question: Ensure consistency in units for Quantity and Item Price. Should any conversions or adjustments be made for uniform analysis?**"
      ],
      "metadata": {
        "id": "AWFMNbKBr3fj"
      }
    },
    {
      "cell_type": "code",
      "source": [
        "\n",
        "\n",
        "# Load the cleaned dataset\n",
        "cleaned_chipotle_file = 'transformed_chipotle.csv'\n",
        "cleaned_chipotle_df = pd.read_csv(cleaned_chipotle_file)\n",
        "\n",
        "# Check the data types and units of Quantity and Item Price columns\n",
        "print(\"Data Types of Quantity and Item Price columns:\")\n",
        "print(cleaned_chipotle_df[['quantity', 'item_price']].dtypes)\n",
        "\n",
        "# Examine unique units of Quantity column\n",
        "print(\"\\nUnique Units in Quantity column:\")\n",
        "print(cleaned_chipotle_df['quantity'].unique())\n",
        "\n",
        "# Examine unique units of Item Price column\n",
        "print(\"\\nUnique Units in Item Price column:\")\n",
        "print(cleaned_chipotle_df['item_price'].unique())\n",
        "\n",
        "# Further analysis and conversions as necessary to ensure consistency in units\n",
        "# For example, converting different units to a common unit (e.g., pieces) or normalizing item prices\n",
        "\n",
        "# Save the transformed dataset to a new CSV file\n",
        "transformed_chipotle_file = 'transformed_chipotle_consistent_units.csv'\n",
        "cleaned_chipotle_df.to_csv(transformed_chipotle_file, index=False)\n",
        "\n",
        "print(f\"\\nTransformed dataset saved to: {transformed_chipotle_file}\")\n"
      ],
      "metadata": {
        "id": "XK_5DBv2rKiX",
        "colab": {
          "base_uri": "https://localhost:8080/"
        },
        "outputId": "d363302e-8ee9-44a6-eb8f-8f9c1b327393"
      },
      "execution_count": 34,
      "outputs": [
        {
          "output_type": "stream",
          "name": "stdout",
          "text": [
            "Data Types of Quantity and Item Price columns:\n",
            "quantity        int64\n",
            "item_price    float64\n",
            "dtype: object\n",
            "\n",
            "Unique Units in Quantity column:\n",
            "[ 1  2  3  4  5 15  7  8 10]\n",
            "\n",
            "Unique Units in Item Price column:\n",
            "[ 2.39  3.39 16.98 10.98  1.69 11.75  9.25  4.45  8.75 11.25  8.49  2.18\n",
            "  8.99  1.09  2.95  2.15  3.99 22.5  11.48 17.98 17.5   4.3   5.9   1.25\n",
            " 23.78  6.49 11.08  1.5  22.16 32.94 22.2  10.58  2.5  23.5   7.4  18.5\n",
            "  3.    6.78 11.89  9.39  4.    3.75  8.69  2.29  8.9   3.27  3.89  8.19\n",
            " 35.   27.75 11.8   6.   26.25 21.96  4.36  7.5   4.78 13.35  6.45  5.07\n",
            " 22.96  7.17  7.98  4.5  26.07 12.98 35.25 44.25 10.5  33.75 16.38 13.52\n",
            "  5.   15.    8.5  17.8   1.99 11.49]\n",
            "\n",
            "Transformed dataset saved to: transformed_chipotle_consistent_units.csv\n"
          ]
        }
      ]
    },
    {
      "cell_type": "code",
      "source": [
        "import pandas as pd\n",
        "cleaned_chipotle_df = pd.read_csv('cleaned_chipotle.csv')"
      ],
      "metadata": {
        "id": "_aRlgD_svRE8"
      },
      "execution_count": 35,
      "outputs": []
    },
    {
      "cell_type": "markdown",
      "source": [
        "**1.Quantity of Each Item**"
      ],
      "metadata": {
        "id": "Df_orbnjswaw"
      }
    },
    {
      "cell_type": "code",
      "source": [
        "# 1. Quantity of each item\n",
        "quantity_per_item = cleaned_chipotle_df.groupby('item_name')['quantity'].sum()\n",
        "print(\"Quantity of each item:\")\n",
        "print(quantity_per_item)"
      ],
      "metadata": {
        "colab": {
          "base_uri": "https://localhost:8080/"
        },
        "id": "2zfueZdwr0cz",
        "outputId": "a71e3ae7-6a21-431e-dced-1cadf6ab1b38"
      },
      "execution_count": 36,
      "outputs": [
        {
          "output_type": "stream",
          "name": "stdout",
          "text": [
            "Quantity of each item:\n",
            "item_name\n",
            "6 Pack Soft Drink                         55\n",
            "Barbacoa Bowl                             66\n",
            "Barbacoa Burrito                          91\n",
            "Barbacoa Crispy Tacos                     12\n",
            "Barbacoa Salad Bowl                       10\n",
            "Barbacoa Soft Tacos                       25\n",
            "Bottled Water                            211\n",
            "Bowl                                       4\n",
            "Burrito                                    6\n",
            "Canned Soda                              126\n",
            "Canned Soft Drink                        351\n",
            "Carnitas Bowl                             71\n",
            "Carnitas Burrito                          60\n",
            "Carnitas Crispy Tacos                      8\n",
            "Carnitas Salad                             1\n",
            "Carnitas Salad Bowl                        6\n",
            "Carnitas Soft Tacos                       40\n",
            "Chicken Bowl                             761\n",
            "Chicken Burrito                          591\n",
            "Chicken Crispy Tacos                      50\n",
            "Chicken Salad                              9\n",
            "Chicken Salad Bowl                       123\n",
            "Chicken Soft Tacos                       120\n",
            "Chips                                    230\n",
            "Chips and Fresh Tomato Salsa             130\n",
            "Chips and Guacamole                      506\n",
            "Chips and Mild Fresh Tomato Salsa          1\n",
            "Chips and Roasted Chili Corn Salsa        23\n",
            "Chips and Roasted Chili-Corn Salsa        18\n",
            "Chips and Tomatillo Green Chili Salsa     45\n",
            "Chips and Tomatillo Red Chili Salsa       50\n",
            "Chips and Tomatillo-Green Chili Salsa     33\n",
            "Chips and Tomatillo-Red Chili Salsa       25\n",
            "Crispy Tacos                               2\n",
            "Izze                                      20\n",
            "Nantucket Nectar                          29\n",
            "Salad                                      2\n",
            "Side of Chips                            110\n",
            "Steak Bowl                               221\n",
            "Steak Burrito                            386\n",
            "Steak Crispy Tacos                        36\n",
            "Steak Salad                                4\n",
            "Steak Salad Bowl                          31\n",
            "Steak Soft Tacos                          56\n",
            "Veggie Bowl                               87\n",
            "Veggie Burrito                            97\n",
            "Veggie Crispy Tacos                        1\n",
            "Veggie Salad                               6\n",
            "Veggie Salad Bowl                         18\n",
            "Veggie Soft Tacos                          8\n",
            "Name: quantity, dtype: int64\n"
          ]
        }
      ]
    },
    {
      "cell_type": "markdown",
      "source": [
        "**2. Most ordered item in the choice_description column**"
      ],
      "metadata": {
        "id": "9NIQ6iTVwafF"
      }
    },
    {
      "cell_type": "code",
      "source": [
        "# Filter out rows where choice_description is not 'No description'\n",
        "filtered_chipotle_df = chipotle_df[chipotle_df['choice_description'] != 'No description']\n",
        "\n",
        "# Find the most ordered item in the choice_description column\n",
        "most_ordered_item = filtered_chipotle_df['choice_description'].mode().iloc[0]\n",
        "print(\"Most ordered item in the choice_description column (excluding 'No description'): \", most_ordered_item)\n"
      ],
      "metadata": {
        "id": "K_WSZHiGtY2_",
        "colab": {
          "base_uri": "https://localhost:8080/"
        },
        "outputId": "158f3f8b-3409-45ae-f84e-dd02f08e3f45"
      },
      "execution_count": 38,
      "outputs": [
        {
          "output_type": "stream",
          "name": "stdout",
          "text": [
            "Most ordered item in the choice_description column (excluding 'No description'):  [Diet Coke]\n"
          ]
        }
      ]
    },
    {
      "cell_type": "markdown",
      "source": [
        "**3.How many items were ordered in total?**"
      ],
      "metadata": {
        "id": "sMuypAEew3xE"
      }
    },
    {
      "cell_type": "code",
      "source": [
        "total_items_ordered = cleaned_chipotle_df['quantity'].sum()\n",
        "print(\"Total number of items ordered:\", total_items_ordered)"
      ],
      "metadata": {
        "colab": {
          "base_uri": "https://localhost:8080/"
        },
        "id": "RtvGYp50wlAr",
        "outputId": "8a8c82de-6f0b-4edf-aaef-ec5ae97ddba6"
      },
      "execution_count": 39,
      "outputs": [
        {
          "output_type": "stream",
          "name": "stdout",
          "text": [
            "Total number of items ordered: 4972\n"
          ]
        }
      ]
    },
    {
      "cell_type": "markdown",
      "source": [
        "**4. Revenue for the period in the dataset**"
      ],
      "metadata": {
        "id": "9eZyy3c6xAg-"
      }
    },
    {
      "cell_type": "code",
      "source": [
        "\n",
        "total_revenue = (cleaned_chipotle_df['quantity'] * cleaned_chipotle_df['item_price']).sum()\n",
        "print(\"Revenue for the period in the dataset:\", total_revenue)"
      ],
      "metadata": {
        "colab": {
          "base_uri": "https://localhost:8080/"
        },
        "id": "tL0jcw3Lw__d",
        "outputId": "b3dba6b0-4e97-4744-fb87-9149aab854dd"
      },
      "execution_count": 41,
      "outputs": [
        {
          "output_type": "stream",
          "name": "stdout",
          "text": [
            "Revenue for the period in the dataset: 39237.02\n"
          ]
        }
      ]
    },
    {
      "cell_type": "markdown",
      "source": [
        "**5.How many orders were made in the period?**"
      ],
      "metadata": {
        "id": "4_P8N0mbxXXb"
      }
    },
    {
      "cell_type": "code",
      "source": [
        "total_orders = cleaned_chipotle_df['order_id'].nunique()\n",
        "print(\"Number of orders made in the period:\", total_orders)"
      ],
      "metadata": {
        "colab": {
          "base_uri": "https://localhost:8080/"
        },
        "id": "MxHyeNljxWp7",
        "outputId": "cd5a9e2a-62f1-4234-b920-76240a235ebb"
      },
      "execution_count": 42,
      "outputs": [
        {
          "output_type": "stream",
          "name": "stdout",
          "text": [
            "Number of orders made in the period: 1834\n"
          ]
        }
      ]
    },
    {
      "cell_type": "markdown",
      "source": [
        " **6. Average revenue amount per order**"
      ],
      "metadata": {
        "id": "rpfidZ4RxfVv"
      }
    },
    {
      "cell_type": "code",
      "source": [
        "average_revenue_per_order = total_revenue / total_orders\n",
        "print(\"Average revenue amount per order:\", average_revenue_per_order)"
      ],
      "metadata": {
        "colab": {
          "base_uri": "https://localhost:8080/"
        },
        "id": "mHCZME3gw_At",
        "outputId": "9d74d30d-5d43-4f4f-8ac7-73ba794c61be"
      },
      "execution_count": 43,
      "outputs": [
        {
          "output_type": "stream",
          "name": "stdout",
          "text": [
            "Average revenue amount per order: 21.39423118865867\n"
          ]
        }
      ]
    },
    {
      "cell_type": "markdown",
      "source": [
        "**7. Number of different items sold**"
      ],
      "metadata": {
        "id": "LK28BvYHxnBc"
      }
    },
    {
      "cell_type": "code",
      "source": [
        "unique_items_sold = cleaned_chipotle_df['item_name'].nunique()\n",
        "print(\"Number of different items sold:\", unique_items_sold)"
      ],
      "metadata": {
        "colab": {
          "base_uri": "https://localhost:8080/"
        },
        "id": "FR7O6MqIxlgc",
        "outputId": "03e7ba9e-51c1-444a-a9f7-c60d6fb47de5"
      },
      "execution_count": 44,
      "outputs": [
        {
          "output_type": "stream",
          "name": "stdout",
          "text": [
            "Number of different items sold: 50\n"
          ]
        }
      ]
    },
    {
      "cell_type": "code",
      "source": [],
      "metadata": {
        "id": "pnIZMWm3xw0-"
      },
      "execution_count": null,
      "outputs": []
    }
  ]
}